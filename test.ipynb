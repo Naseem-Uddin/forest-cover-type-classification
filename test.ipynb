{
 "cells": [
  {
   "cell_type": "code",
   "execution_count": 1,
   "id": "39f6967c-7b4b-4575-9f25-8fe08bd36e53",
   "metadata": {},
   "outputs": [],
   "source": [
    "import pandas as pd\n",
    "import numpy as np\n",
    "\n",
    "import matplotlib.pyplot as plt\n",
    "import seaborn as sns\n",
    "\n",
    "from sklearn.model_selection import train_test_split\n",
    "from sklearn.preprocessing import StandardScaler\n",
    "from sklearn.metrics import accuracy_score, classification_report, confusion_matrix\n",
    "\n",
    "from sklearn.linear_model import LogisticRegression\n",
    "from sklearn.ensemble import RandomForestClassifier"
   ]
  },
  {
   "cell_type": "code",
   "execution_count": null,
   "id": "3d4e34e3-ff6e-4d06-9d98-10579e58c4a7",
   "metadata": {},
   "outputs": [],
   "source": [
    "df = pd.read_csv(\"covertype.csv\")\n",
    "\n",
    "#print(df.shape)\n",
    "\n",
    "# Data Clean / Preprocessing\n",
    "\n",
    "df.drop(['Unnamed: 0', 'Unnamed: 1', 'Unnamed: 2'], axis=1, inplace=True)\n",
    "\n",
    "# Split & Scale Data Set\n",
    "\n",
    "X = df.drop(columns=['Cover_Type'])\n",
    "y = df['Cover_Type']\n",
    "\n",
    "X_train, X_test, y_train, y_test = train_test_split(X, y, random_state=42, stratify=y)\n",
    "scaler = StandardScaler()\n",
    "\n",
    "X_train = scaler.fit_transform(X_train)\n",
    "X_test = scaler.transform(X_test)\n",
    "\n",
    "\n",
    "# Logistic Regression Model Building\n",
    "\n",
    "lr = LogisticRegression(random_state=42, solver=\"saga\", class_weight='balanced', max_iter=2000, verbose=1)\n",
    "lr.fit(X_train, y_train)\n",
    "\n",
    "log_y_pred = lr.predict(X_test) \n",
    "\n",
    "print(\"Logistic Regression Prediction Accuracy Report: \", accuracy_score(y_test, log_y_pred))\n",
    "print(classification_report(y_test, log_y_pred))"
   ]
  },
  {
   "cell_type": "code",
   "execution_count": null,
   "id": "0778fc0b-cac3-4054-b524-b2121877a00a",
   "metadata": {},
   "outputs": [],
   "source": []
  }
 ],
 "metadata": {
  "kernelspec": {
   "display_name": "Python 3 (ipykernel)",
   "language": "python",
   "name": "python3"
  },
  "language_info": {
   "codemirror_mode": {
    "name": "ipython",
    "version": 3
   },
   "file_extension": ".py",
   "mimetype": "text/x-python",
   "name": "python",
   "nbconvert_exporter": "python",
   "pygments_lexer": "ipython3",
   "version": "3.12.1"
  }
 },
 "nbformat": 4,
 "nbformat_minor": 5
}
